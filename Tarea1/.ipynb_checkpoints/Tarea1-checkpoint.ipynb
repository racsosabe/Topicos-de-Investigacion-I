{
 "cells": [
  {
   "cell_type": "markdown",
   "metadata": {},
   "source": [
    "## Tarea 1 del curso CM-072\n",
    "\n",
    "* Nombre y apellidos: Víctor Racsó Galván Oyola\n",
    "* Fecha de presentación: 11 de setiembre."
   ]
  },
  {
   "cell_type": "markdown",
   "metadata": {},
   "source": [
    "## Lista de preguntas:"
   ]
  },
  {
   "cell_type": "markdown",
   "metadata": {},
   "source": [
    "1 . Responde de acuerdo a los conceptos hechos en clase las siguientes preguntas:\n",
    "   * Supongamos que tenemos la tarea de construir un sistema que pueda distinguir  correo no deseado o spam. ¿Qué crees que hay en un correo electrónico no deseado que nos permite saber que es spam? ¿Cómo puede la computadora detectar spam a través de un análisis sintáctico?. ¿Qué te gustaría que hiciera la computadora si detecta un correo electrónico que es spam?, ¿eliminarlo automáticamente, moverlo a un archivo diferente o simplemente resaltarlo en la pantalla?.\n",
    "   \n",
    "   * ¿Cómo se puede predecir el siguiente comando a ser escrito por un usuario? ¿O la próxima página de la que descargará información en la Web? ¿Cuándo sería útil tal predicción? ¿Cuándo no?."
   ]
  },
  {
   "cell_type": "markdown",
   "metadata": {},
   "source": [
    "- Primero, deberiamos guardar cada mensaje como un mapa de palabras con sus respectivas frecuencias tal que pasen una frecuencia minima llamada UMBRAL.\n",
    "- Luego, en funcion a las palabras que esten presentes con mas frecuencia es probable que un spam se distinga de un correo normal (\"bueno/a\", \"noticia\", etc están en spam).\n",
    "- La computadora podría separar el spam en función a la forma de referirse al receptor basandonos en que lo usual es que en un spam se use 3ra persona, mientras que un correo dirigido suele ser en 2da (aunque en aspectos laborarales se deberia obviar esta situación).\n",
    "- Si la computadora detectara un spam lo ideal sería que se nos notifique para luego eliminarlo, puesto que segun la frecuencia con la que el mismo usuario nos envie spam podria ser necesario bloquear la fuente.\n",
    "- El siguiente comando a ser escrito por un usuario puede ser predecido en funcion a los comandos anteriores que ha colocado, además de que con todas las veces anteriores se puede obtener el limite de conocimiento de comandos que domina el usuario, lo que da una mayor probabilidad de que use un comando que ya sabe considerando la situacion actual del sistema.\n",
    "- La prediccion seria util si es que lo que debemos analizar es poco volátil, por ejemplo, el tema de predecir un comando puede variar de manera inesperada muchas veces de manera independiente, por lo que no es válido admitir que se logrará una precisión aceptable."
   ]
  },
  {
   "cell_type": "markdown",
   "metadata": {},
   "source": [
    "2 . ¿Puedes predecir las especies de un iris usando medidas de pétalos y sépalos?\n",
    "\n",
    "   * Lee los datos del conjunto predeterminado `iris` en un DataFrame de Pandas, incluyendo los nombres de las columnas.\n",
    "   * Recolecta  información básica sobre los datos `iris`  utilizando pandas.\n",
    "   * Utiliza la clasificación, [dividir-aplicar-combinar](https://pandas.pydata.org/pandas-docs/version/0.23.4/groupby.html) y  visualización para buscar las diferencias entre las especies.\n",
    "\n",
    "   * Escribe un conjunto de reglas que podrían usarse para predecir especies en base a las mediciones de iris.\n",
    "   * Define una función que acepte una fila de datos y devuelva una especie pronosticada. Luego, usa esa función para hacer predicciones para todas las filas de datos existentes y verifique la precisión de sus predicciones.\n"
   ]
  },
  {
   "cell_type": "code",
   "execution_count": 13,
   "metadata": {},
   "outputs": [
    {
     "data": {
      "text/html": [
       "<div>\n",
       "<style scoped>\n",
       "    .dataframe tbody tr th:only-of-type {\n",
       "        vertical-align: middle;\n",
       "    }\n",
       "\n",
       "    .dataframe tbody tr th {\n",
       "        vertical-align: top;\n",
       "    }\n",
       "\n",
       "    .dataframe thead th {\n",
       "        text-align: right;\n",
       "    }\n",
       "</style>\n",
       "<table border=\"1\" class=\"dataframe\">\n",
       "  <thead>\n",
       "    <tr style=\"text-align: right;\">\n",
       "      <th></th>\n",
       "      <th>l_sepalo</th>\n",
       "      <th>w_sepalo</th>\n",
       "      <th>l_petalo</th>\n",
       "      <th>w_petalo</th>\n",
       "      <th>especie</th>\n",
       "    </tr>\n",
       "  </thead>\n",
       "  <tbody>\n",
       "    <tr>\n",
       "      <th>0</th>\n",
       "      <td>5.1</td>\n",
       "      <td>3.5</td>\n",
       "      <td>1.4</td>\n",
       "      <td>0.2</td>\n",
       "      <td>Iris-setosa</td>\n",
       "    </tr>\n",
       "    <tr>\n",
       "      <th>1</th>\n",
       "      <td>4.9</td>\n",
       "      <td>3.0</td>\n",
       "      <td>1.4</td>\n",
       "      <td>0.2</td>\n",
       "      <td>Iris-setosa</td>\n",
       "    </tr>\n",
       "    <tr>\n",
       "      <th>2</th>\n",
       "      <td>4.7</td>\n",
       "      <td>3.2</td>\n",
       "      <td>1.3</td>\n",
       "      <td>0.2</td>\n",
       "      <td>Iris-setosa</td>\n",
       "    </tr>\n",
       "    <tr>\n",
       "      <th>3</th>\n",
       "      <td>4.6</td>\n",
       "      <td>3.1</td>\n",
       "      <td>1.5</td>\n",
       "      <td>0.2</td>\n",
       "      <td>Iris-setosa</td>\n",
       "    </tr>\n",
       "    <tr>\n",
       "      <th>4</th>\n",
       "      <td>5.0</td>\n",
       "      <td>3.6</td>\n",
       "      <td>1.4</td>\n",
       "      <td>0.2</td>\n",
       "      <td>Iris-setosa</td>\n",
       "    </tr>\n",
       "    <tr>\n",
       "      <th>5</th>\n",
       "      <td>5.4</td>\n",
       "      <td>3.9</td>\n",
       "      <td>1.7</td>\n",
       "      <td>0.4</td>\n",
       "      <td>Iris-setosa</td>\n",
       "    </tr>\n",
       "    <tr>\n",
       "      <th>6</th>\n",
       "      <td>4.6</td>\n",
       "      <td>3.4</td>\n",
       "      <td>1.4</td>\n",
       "      <td>0.3</td>\n",
       "      <td>Iris-setosa</td>\n",
       "    </tr>\n",
       "    <tr>\n",
       "      <th>7</th>\n",
       "      <td>5.0</td>\n",
       "      <td>3.4</td>\n",
       "      <td>1.5</td>\n",
       "      <td>0.2</td>\n",
       "      <td>Iris-setosa</td>\n",
       "    </tr>\n",
       "    <tr>\n",
       "      <th>8</th>\n",
       "      <td>4.4</td>\n",
       "      <td>2.9</td>\n",
       "      <td>1.4</td>\n",
       "      <td>0.2</td>\n",
       "      <td>Iris-setosa</td>\n",
       "    </tr>\n",
       "    <tr>\n",
       "      <th>9</th>\n",
       "      <td>4.9</td>\n",
       "      <td>3.1</td>\n",
       "      <td>1.5</td>\n",
       "      <td>0.1</td>\n",
       "      <td>Iris-setosa</td>\n",
       "    </tr>\n",
       "  </tbody>\n",
       "</table>\n",
       "</div>"
      ],
      "text/plain": [
       "   l_sepalo  w_sepalo  l_petalo  w_petalo      especie\n",
       "0       5.1       3.5       1.4       0.2  Iris-setosa\n",
       "1       4.9       3.0       1.4       0.2  Iris-setosa\n",
       "2       4.7       3.2       1.3       0.2  Iris-setosa\n",
       "3       4.6       3.1       1.5       0.2  Iris-setosa\n",
       "4       5.0       3.6       1.4       0.2  Iris-setosa\n",
       "5       5.4       3.9       1.7       0.4  Iris-setosa\n",
       "6       4.6       3.4       1.4       0.3  Iris-setosa\n",
       "7       5.0       3.4       1.5       0.2  Iris-setosa\n",
       "8       4.4       2.9       1.4       0.2  Iris-setosa\n",
       "9       4.9       3.1       1.5       0.1  Iris-setosa"
      ]
     },
     "execution_count": 13,
     "metadata": {},
     "output_type": "execute_result"
    }
   ],
   "source": [
    "# Importamos pandas y la raw data\n",
    "import pandas as pd\n",
    "url = 'https://archive.ics.uci.edu/ml/machine-learning-databases/iris/iris.data' # Direccion de los datos\n",
    "col_names = ['l_sepalo', 'w_sepalo', 'l_petalo', 'w_petalo', 'especie'] # Ponemos nombre a las columnas\n",
    "iris = pd.read_csv(url, header=None, names=col_names) # Creamos el DataFrame\n",
    "iris.head(10)"
   ]
  },
  {
   "cell_type": "markdown",
   "metadata": {},
   "source": [
    "3 . Sea el siguiente código de generación de datos:"
   ]
  },
  {
   "cell_type": "code",
   "execution_count": 18,
   "metadata": {},
   "outputs": [
    {
     "name": "stdout",
     "output_type": "stream",
     "text": [
      "X\n",
      "   l_sepalo  w_sepalo  l_petalo  w_petalo\n",
      "0       5.1       3.5       1.4       0.2\n",
      "1       4.9       3.0       1.4       0.2\n",
      "2       4.7       3.2       1.3       0.2\n",
      "3       4.6       3.1       1.5       0.2\n",
      "4       5.0       3.6       1.4       0.2\n",
      "5       5.4       3.9       1.7       0.4\n",
      "6       4.6       3.4       1.4       0.3\n",
      "7       5.0       3.4       1.5       0.2\n",
      "8       4.4       2.9       1.4       0.2\n",
      "9       4.9       3.1       1.5       0.1\n",
      "Y\n",
      "0    Iris-setosa\n",
      "1    Iris-setosa\n",
      "2    Iris-setosa\n",
      "3    Iris-setosa\n",
      "4    Iris-setosa\n",
      "5    Iris-setosa\n",
      "6    Iris-setosa\n",
      "7    Iris-setosa\n",
      "8    Iris-setosa\n",
      "9    Iris-setosa\n",
      "Name: especie, dtype: object\n"
     ]
    }
   ],
   "source": [
    "# Preprocesamiento\n",
    "X = iris.drop('especie',axis=1) # Argumentos para clasificación\n",
    "print(\"X\")\n",
    "print(X.head(10))\n",
    "print(\"Y\")\n",
    "y = iris['especie']\n",
    "print(y.head(10)) # Valores correctos de clasificación"
   ]
  },
  {
   "cell_type": "code",
   "execution_count": 102,
   "metadata": {},
   "outputs": [
    {
     "name": "stdout",
     "output_type": "stream",
     "text": [
      "                 l_petalo\n",
      "especie                  \n",
      "Iris-setosa           1.0\n",
      "Iris-versicolor       3.0\n",
      "Iris-virginica        4.5\n",
      "                 l_petalo\n",
      "especie                  \n",
      "Iris-setosa           1.9\n",
      "Iris-versicolor       5.1\n",
      "Iris-virginica        6.9\n",
      "                 w_petalo\n",
      "especie                  \n",
      "Iris-setosa           0.1\n",
      "Iris-versicolor       1.0\n",
      "Iris-virginica        1.4\n",
      "                 w_petalo\n",
      "especie                  \n",
      "Iris-setosa           0.6\n",
      "Iris-versicolor       1.8\n",
      "Iris-virginica        2.5\n"
     ]
    }
   ],
   "source": [
    "# Recolección de datos\n",
    "# Especies\n",
    "Especies = ['Iris-setosa','Iris-versicolor','Iris-virginica']\n",
    "# Maximo y Minimo\n",
    "Minimo_por_especie_l_petalo = iris[['l_petalo','especie']].groupby(['especie']).min() # Agrupamos por especie - Minimo\n",
    "print(Minimo_por_especie_l_petalo)\n",
    "Maximo_por_especie_l_petalo = iris[['l_petalo','especie']].groupby(['especie']).max() # Agrupamos por especie - Maximo\n",
    "print(Maximo_por_especie_l_petalo)\n",
    "Minimo_por_especie_w_petalo = iris[['w_petalo','especie']].groupby(['especie']).min()\n",
    "print(Minimo_por_especie_w_petalo)\n",
    "Maximo_por_especie_w_petalo = iris[['w_petalo','especie']].groupby(['especie']).max()\n",
    "print(Maximo_por_especie_w_petalo)\n",
    "# Media agrupada por especie y l_petalo\n",
    "Media_por_especie_y_l_petalo_l_sepalo = iris[['l_petalo','especie','l_sepalo']].groupby(['especie','l_petalo']).mean()"
   ]
  },
  {
   "cell_type": "code",
   "execution_count": 117,
   "metadata": {},
   "outputs": [
    {
     "name": "stdout",
     "output_type": "stream",
     "text": [
      "Accepted:  142 - Rejected:  8\n"
     ]
    }
   ],
   "source": [
    "def inside(E,row): # Clasificamos si pertenece o no a los intervalos de l_petalo y w_petalo\n",
    "    if Minimo_por_especie_l_petalo.at[E,'l_petalo'] <= row['l_petalo'] <= Maximo_por_especie_l_petalo.at[E,'l_petalo']:\n",
    "        if Minimo_por_especie_w_petalo.at[E,'w_petalo'] <= row['w_petalo'] <= Maximo_por_especie_w_petalo.at[E,'w_petalo']:\n",
    "            return True\n",
    "        else: return False\n",
    "    else: return False\n",
    "\n",
    "def easyClassify(row): # Funcion de clasificacion por fila\n",
    "    for E in Especies: # Verificamos para todas las especies si puede pertenecer o no\n",
    "        if inside(E,row):\n",
    "            return E\n",
    "    return 'Ninguno'\n",
    "    \n",
    "results = X.apply(easyClassify,axis=1) # Aplicamos a todo el DataFrame la funcion de clasificacion\n",
    "print(\"Accepted: \",sum(results==y),\"- Rejected: \",sum(results!=y)) # Imprimimos los resultados"
   ]
  },
  {
   "cell_type": "code",
   "execution_count": 16,
   "metadata": {},
   "outputs": [],
   "source": [
    "import numpy as np\n",
    "import pandas as pd\n",
    "import matplotlib.pyplot as plt\n",
    "\n",
    "%matplotlib inline"
   ]
  },
  {
   "cell_type": "code",
   "execution_count": 4,
   "metadata": {},
   "outputs": [
    {
     "data": {
      "image/png": "[encoded data removed]",
      "text/plain": [
       "<Figure size 432x288 with 1 Axes>"
      ]
     },
     "metadata": {
      "needs_background": "light"
     },
     "output_type": "display_data"
    }
   ],
   "source": [
    "# Recolectamos datos artificiales\n",
    "n = 100\n",
    "x = np.linspace(0, 1, n)\n",
    "y = np.sin(x)*3 + np.random.normal(0, 0.1, n)\n",
    "plt.plot(x, y, 'o');"
   ]
  },
  {
   "cell_type": "markdown",
   "metadata": {},
   "source": [
    "Usando los siguientes datos y scikit learn, desarrolla los siguientes pasos descritos en clase, para una regresión lineal:\n",
    "\n",
    "* Escoger un modelo\n",
    "* Elegir modelo de hiperparámetros\n",
    "* Organiza los datos en una matriz de características y vector objetivo.\n",
    "* Fija el modelo a tus datos.\n",
    "* Predecir etiquetas para datos desconocidos."
   ]
  },
  {
   "cell_type": "code",
   "execution_count": 9,
   "metadata": {},
   "outputs": [
    {
     "data": {
      "text/plain": [
       "LinearRegression(copy_X=True, fit_intercept=True, n_jobs=10, normalize=True)"
      ]
     },
     "execution_count": 9,
     "metadata": {},
     "output_type": "execute_result"
    }
   ],
   "source": [
    "from sklearn.linear_model import LinearRegression\n",
    "Regresion = LinearRegression(normalize=True, n_jobs=10) # Usamos regresión lineal\n",
    "Regresion"
   ]
  },
  {
   "cell_type": "code",
   "execution_count": 10,
   "metadata": {},
   "outputs": [
    {
     "data": {
      "text/plain": [
       "LinearRegression(copy_X=True, fit_intercept=True, n_jobs=10, normalize=True)"
      ]
     },
     "execution_count": 10,
     "metadata": {},
     "output_type": "execute_result"
    }
   ],
   "source": [
    "Xs = x[:, np.newaxis] # Generamos datos con una dimensión mas\n",
    "Regresion.fit(Xs, y) # Ajustamos la curva en base a los resultados esperados"
   ]
  },
  {
   "cell_type": "code",
   "execution_count": 11,
   "metadata": {},
   "outputs": [],
   "source": [
    "Y_predecido = Regresion.predict(Xs) # Predecimos en funcion al ajuste anterior"
   ]
  },
  {
   "cell_type": "code",
   "execution_count": 12,
   "metadata": {},
   "outputs": [
    {
     "data": {
      "image/png": "[encoded data removed]",
      "text/plain": [
       "<Figure size 432x288 with 1 Axes>"
      ]
     },
     "metadata": {
      "needs_background": "light"
     },
     "output_type": "display_data"
    }
   ],
   "source": [
    "plt.plot(x, y, 'o', x, Y_predecido, '-r'); # Mostramos la curva generada"
   ]
  },
  {
   "cell_type": "markdown",
   "metadata": {},
   "source": [
    "4 . Realiza los mismos pasos para el conjunto  de datos de scikit learn  [load_diabetes](http://scikit-learn.org/stable/modules/generated/sklearn.datasets.load_diabetes.html). "
   ]
  },
  {
   "cell_type": "code",
   "execution_count": 5,
   "metadata": {},
   "outputs": [],
   "source": [
    "from sklearn.datasets import load_diabetes\n",
    "data = load_diabetes()"
   ]
  },
  {
   "cell_type": "code",
   "execution_count": 6,
   "metadata": {},
   "outputs": [
    {
     "data": {
      "text/plain": [
       "dict_keys(['target', 'data', 'feature_names', 'DESCR'])"
      ]
     },
     "execution_count": 6,
     "metadata": {},
     "output_type": "execute_result"
    }
   ],
   "source": [
    "data.keys()"
   ]
  },
  {
   "cell_type": "code",
   "execution_count": 7,
   "metadata": {},
   "outputs": [
    {
     "name": "stdout",
     "output_type": "stream",
     "text": [
      "Diabetes dataset\n",
      "================\n",
      "\n",
      "Notes\n",
      "-----\n",
      "\n",
      "Ten baseline variables, age, sex, body mass index, average blood\n",
      "pressure, and six blood serum measurements were obtained for each of n =\n",
      "442 diabetes patients, as well as the response of interest, a\n",
      "quantitative measure of disease progression one year after baseline.\n",
      "\n",
      "Data Set Characteristics:\n",
      "\n",
      "  :Number of Instances: 442\n",
      "\n",
      "  :Number of Attributes: First 10 columns are numeric predictive values\n",
      "\n",
      "  :Target: Column 11 is a quantitative measure of disease progression one year after baseline\n",
      "\n",
      "  :Attributes:\n",
      "    :Age:\n",
      "    :Sex:\n",
      "    :Body mass index:\n",
      "    :Average blood pressure:\n",
      "    :S1:\n",
      "    :S2:\n",
      "    :S3:\n",
      "    :S4:\n",
      "    :S5:\n",
      "    :S6:\n",
      "\n",
      "Note: Each of these 10 feature variables have been mean centered and scaled by the standard deviation times `n_samples` (i.e. the sum of squares of each column totals 1).\n",
      "\n",
      "Source URL:\n",
      "http://www4.stat.ncsu.edu/~boos/var.select/diabetes.html\n",
      "\n",
      "For more information see:\n",
      "Bradley Efron, Trevor Hastie, Iain Johnstone and Robert Tibshirani (2004) \"Least Angle Regression,\" Annals of Statistics (with discussion), 407-499.\n",
      "(http://web.stanford.edu/~hastie/Papers/LARS/LeastAngle_2002.pdf)\n",
      "\n"
     ]
    }
   ],
   "source": [
    "print(data['DESCR'])"
   ]
  },
  {
   "cell_type": "code",
   "execution_count": 9,
   "metadata": {},
   "outputs": [
    {
     "data": {
      "text/html": [
       "<div>\n",
       "<style scoped>\n",
       "    .dataframe tbody tr th:only-of-type {\n",
       "        vertical-align: middle;\n",
       "    }\n",
       "\n",
       "    .dataframe tbody tr th {\n",
       "        vertical-align: top;\n",
       "    }\n",
       "\n",
       "    .dataframe thead th {\n",
       "        text-align: right;\n",
       "    }\n",
       "</style>\n",
       "<table border=\"1\" class=\"dataframe\">\n",
       "  <thead>\n",
       "    <tr style=\"text-align: right;\">\n",
       "      <th></th>\n",
       "      <th>age</th>\n",
       "      <th>sex</th>\n",
       "      <th>bmi</th>\n",
       "      <th>bp</th>\n",
       "      <th>s1</th>\n",
       "      <th>s2</th>\n",
       "      <th>s3</th>\n",
       "      <th>s4</th>\n",
       "      <th>s5</th>\n",
       "      <th>s6</th>\n",
       "    </tr>\n",
       "  </thead>\n",
       "  <tbody>\n",
       "    <tr>\n",
       "      <th>0</th>\n",
       "      <td>0.038076</td>\n",
       "      <td>0.050680</td>\n",
       "      <td>0.061696</td>\n",
       "      <td>0.021872</td>\n",
       "      <td>-0.044223</td>\n",
       "      <td>-0.034821</td>\n",
       "      <td>-0.043401</td>\n",
       "      <td>-0.002592</td>\n",
       "      <td>0.019908</td>\n",
       "      <td>-0.017646</td>\n",
       "    </tr>\n",
       "    <tr>\n",
       "      <th>1</th>\n",
       "      <td>-0.001882</td>\n",
       "      <td>-0.044642</td>\n",
       "      <td>-0.051474</td>\n",
       "      <td>-0.026328</td>\n",
       "      <td>-0.008449</td>\n",
       "      <td>-0.019163</td>\n",
       "      <td>0.074412</td>\n",
       "      <td>-0.039493</td>\n",
       "      <td>-0.068330</td>\n",
       "      <td>-0.092204</td>\n",
       "    </tr>\n",
       "    <tr>\n",
       "      <th>2</th>\n",
       "      <td>0.085299</td>\n",
       "      <td>0.050680</td>\n",
       "      <td>0.044451</td>\n",
       "      <td>-0.005671</td>\n",
       "      <td>-0.045599</td>\n",
       "      <td>-0.034194</td>\n",
       "      <td>-0.032356</td>\n",
       "      <td>-0.002592</td>\n",
       "      <td>0.002864</td>\n",
       "      <td>-0.025930</td>\n",
       "    </tr>\n",
       "    <tr>\n",
       "      <th>3</th>\n",
       "      <td>-0.089063</td>\n",
       "      <td>-0.044642</td>\n",
       "      <td>-0.011595</td>\n",
       "      <td>-0.036656</td>\n",
       "      <td>0.012191</td>\n",
       "      <td>0.024991</td>\n",
       "      <td>-0.036038</td>\n",
       "      <td>0.034309</td>\n",
       "      <td>0.022692</td>\n",
       "      <td>-0.009362</td>\n",
       "    </tr>\n",
       "    <tr>\n",
       "      <th>4</th>\n",
       "      <td>0.005383</td>\n",
       "      <td>-0.044642</td>\n",
       "      <td>-0.036385</td>\n",
       "      <td>0.021872</td>\n",
       "      <td>0.003935</td>\n",
       "      <td>0.015596</td>\n",
       "      <td>0.008142</td>\n",
       "      <td>-0.002592</td>\n",
       "      <td>-0.031991</td>\n",
       "      <td>-0.046641</td>\n",
       "    </tr>\n",
       "    <tr>\n",
       "      <th>5</th>\n",
       "      <td>-0.092695</td>\n",
       "      <td>-0.044642</td>\n",
       "      <td>-0.040696</td>\n",
       "      <td>-0.019442</td>\n",
       "      <td>-0.068991</td>\n",
       "      <td>-0.079288</td>\n",
       "      <td>0.041277</td>\n",
       "      <td>-0.076395</td>\n",
       "      <td>-0.041180</td>\n",
       "      <td>-0.096346</td>\n",
       "    </tr>\n",
       "    <tr>\n",
       "      <th>6</th>\n",
       "      <td>-0.045472</td>\n",
       "      <td>0.050680</td>\n",
       "      <td>-0.047163</td>\n",
       "      <td>-0.015999</td>\n",
       "      <td>-0.040096</td>\n",
       "      <td>-0.024800</td>\n",
       "      <td>0.000779</td>\n",
       "      <td>-0.039493</td>\n",
       "      <td>-0.062913</td>\n",
       "      <td>-0.038357</td>\n",
       "    </tr>\n",
       "    <tr>\n",
       "      <th>7</th>\n",
       "      <td>0.063504</td>\n",
       "      <td>0.050680</td>\n",
       "      <td>-0.001895</td>\n",
       "      <td>0.066630</td>\n",
       "      <td>0.090620</td>\n",
       "      <td>0.108914</td>\n",
       "      <td>0.022869</td>\n",
       "      <td>0.017703</td>\n",
       "      <td>-0.035817</td>\n",
       "      <td>0.003064</td>\n",
       "    </tr>\n",
       "    <tr>\n",
       "      <th>8</th>\n",
       "      <td>0.041708</td>\n",
       "      <td>0.050680</td>\n",
       "      <td>0.061696</td>\n",
       "      <td>-0.040099</td>\n",
       "      <td>-0.013953</td>\n",
       "      <td>0.006202</td>\n",
       "      <td>-0.028674</td>\n",
       "      <td>-0.002592</td>\n",
       "      <td>-0.014956</td>\n",
       "      <td>0.011349</td>\n",
       "    </tr>\n",
       "    <tr>\n",
       "      <th>9</th>\n",
       "      <td>-0.070900</td>\n",
       "      <td>-0.044642</td>\n",
       "      <td>0.039062</td>\n",
       "      <td>-0.033214</td>\n",
       "      <td>-0.012577</td>\n",
       "      <td>-0.034508</td>\n",
       "      <td>-0.024993</td>\n",
       "      <td>-0.002592</td>\n",
       "      <td>0.067736</td>\n",
       "      <td>-0.013504</td>\n",
       "    </tr>\n",
       "  </tbody>\n",
       "</table>\n",
       "</div>"
      ],
      "text/plain": [
       "        age       sex       bmi        bp        s1        s2        s3  \\\n",
       "0  0.038076  0.050680  0.061696  0.021872 -0.044223 -0.034821 -0.043401   \n",
       "1 -0.001882 -0.044642 -0.051474 -0.026328 -0.008449 -0.019163  0.074412   \n",
       "2  0.085299  0.050680  0.044451 -0.005671 -0.045599 -0.034194 -0.032356   \n",
       "3 -0.089063 -0.044642 -0.011595 -0.036656  0.012191  0.024991 -0.036038   \n",
       "4  0.005383 -0.044642 -0.036385  0.021872  0.003935  0.015596  0.008142   \n",
       "5 -0.092695 -0.044642 -0.040696 -0.019442 -0.068991 -0.079288  0.041277   \n",
       "6 -0.045472  0.050680 -0.047163 -0.015999 -0.040096 -0.024800  0.000779   \n",
       "7  0.063504  0.050680 -0.001895  0.066630  0.090620  0.108914  0.022869   \n",
       "8  0.041708  0.050680  0.061696 -0.040099 -0.013953  0.006202 -0.028674   \n",
       "9 -0.070900 -0.044642  0.039062 -0.033214 -0.012577 -0.034508 -0.024993   \n",
       "\n",
       "         s4        s5        s6  \n",
       "0 -0.002592  0.019908 -0.017646  \n",
       "1 -0.039493 -0.068330 -0.092204  \n",
       "2 -0.002592  0.002864 -0.025930  \n",
       "3  0.034309  0.022692 -0.009362  \n",
       "4 -0.002592 -0.031991 -0.046641  \n",
       "5 -0.076395 -0.041180 -0.096346  \n",
       "6 -0.039493 -0.062913 -0.038357  \n",
       "7  0.017703 -0.035817  0.003064  \n",
       "8 -0.002592 -0.014956  0.011349  \n",
       "9 -0.002592  0.067736 -0.013504  "
      ]
     },
     "execution_count": 9,
     "metadata": {},
     "output_type": "execute_result"
    }
   ],
   "source": [
    "import pandas as pd\n",
    "x = pd.DataFrame(data['data'], columns=data['feature_names']) # Obtenemos los datos sin su resultado\n",
    "y = data['target'] # Obtenemos los resultados esperados de cada fila\n",
    "x.head(10)"
   ]
  },
  {
   "cell_type": "code",
   "execution_count": 10,
   "metadata": {},
   "outputs": [
    {
     "data": {
      "text/plain": [
       "KNeighborsClassifier(algorithm='auto', leaf_size=30, metric='minkowski',\n",
       "           metric_params=None, n_jobs=1, n_neighbors=100, p=2,\n",
       "           weights='uniform')"
      ]
     },
     "execution_count": 10,
     "metadata": {},
     "output_type": "execute_result"
    }
   ],
   "source": [
    "from sklearn.neighbors import KNeighborsClassifier # K Nearest Neighbors classifier\n",
    "neigh = KNeighborsClassifier(n_neighbors = 100) # Usamos K = 100\n",
    "neigh.fit(x,y) # Ajustamos el predictor para los datos"
   ]
  },
  {
   "cell_type": "code",
   "execution_count": 19,
   "metadata": {},
   "outputs": [
    {
     "name": "stdout",
     "output_type": "stream",
     "text": [
      "[71. 84.]\n"
     ]
    }
   ],
   "source": [
    "v1 = np.random.uniform(-1.0,1.0,10)\n",
    "v2 = np.random.binomial(1,0.1,10)\n",
    "print(neigh.predict([v1,v2])) # Ejemplo de entrada cualquiera"
   ]
  },
  {
   "cell_type": "markdown",
   "metadata": {},
   "source": [
    "5 (Obligatoria). Lee el siguiente artículo [Understanding the Bias-Variance Tradeoff](http://scott.fortmann-roe.com/docs/BiasVariance.html), responde las siguientes preguntas:\n",
    "\n",
    "* En el ejemplo Party Registration, ¿cuáles son las características? ¿Cuál es la respuesta? ¿Es  un problema de regresión o clasificación?.\n",
    "\n",
    "* Conceptualmente, ¿cómo se aplica KNN a este problema para hacer una predicción?\n",
    "* ¿Cómo se relacionan las cuatro visualizaciones en la sección 3 entre sí?. Cambia el valor de **k** utilizando el control deslizante y explica por que  cambió  las visualizaciones.\n",
    "* En las figuras 4 y 5, ¿qué significan los colores más claros en comparación con los colores más oscuros? ¿Cómo se calcula la oscuridad?\n",
    "\n",
    "* ¿Qué representa la línea negra en la figura 5? ¿Qué predicciones haría el mejor modelo de aprendizaje automático con respecto a esta línea?\n",
    "\n",
    "* Elije un valor pequeño para `k` y haz clic en el botón `Generate New Training Data` varias veces. ¿Observas \"baja varianza o alta varianza, bajo sesgo o alto sesgo?\n",
    "\n",
    "* Repite este procedimiento con un valor muy grande de `k`. ¿Observas \"baja varianza o alta varianza, bajo sesgo o alto sesgo?.\n",
    "\n",
    "* Utiliza otros valores de `k`. ¿Qué valor crees que es \"mejor\"? ¿Cómo defines \"mejor\"?.\n",
    "\n",
    "* ¿Un pequeño valor de `k` produce \"overfitting\" o \"underfitting\"? y ¿por qué?.\n",
    "\n",
    "* ¿Por qué debería importarnos la varianza? ¿No deberíamos minimizar el sesgo e ignorar la varianza?."
   ]
  },
  {
   "cell_type": "markdown",
   "metadata": {},
   "source": [
    "- Las caracteristicas usadas en Party Registration son Religión y Poder económico, la respuesta es el voto de la persona. Es un problema de clasificación dado que el resultado se puede expresar como valores discretos en un rango determinado.\n",
    "- El KNN se aplica al modelo siguiendo que existe un valor $k$ fijo y para cada punto $x$ se obtiene el promedio de los $k$ votantes más cercanos al punto $x$ (usando alguna métrica) y predecir su voto usándolo.\n",
    "- Mientras se va subiendo el valor de $k$ los colores de las componentes se van volviendo más claros.\n",
    "- Los colores más oscuros representan que la mayoria para esa region es intensa (implica que sus vecinos en su mayoria muestran una tendencia alta a votar como se predice), mientras que colores más claros representan que no hay predominio por parte de algun color entre los vecinos. La oscuridad es en función al promedio de los $k$ vecinos más cercanos.\n",
    "- La linea negra representa una división aproximada que sirve para separar los votantes de manera directa. A través de los datos se nota un pequeño sesgo y una varianza mediana.\n",
    "- Con un k más grande se puede ver una varianza pequeña pero un sesgo muy alto.\n",
    "- Para k=30 hay sesgo y varianza ligeros.\n",
    "- Un valor pequeño de $k$ produce overfitting, debido a que al usar pocos vecinos, la tendencia es que la región se pinte del color del training data set.\n",
    "- La varianza es importante al momento de ingresar nuevos datos a la predicción. Con nuevos datos, el esquema de clasificación cambia y puede destruirse por completo si tratamos con nuevos datos volátiles. Minimizar el sesgo es importante, pero no importa minimizar el sesgo actual si al momento de tratar con datos nunca antes vistos no pueda realizar una predicción cercana a lo estándar."
   ]
  }
 ],
 "metadata": {
  "kernelspec": {
   "display_name": "Python 3",
   "language": "python",
   "name": "python3"
  },
  "language_info": {
   "codemirror_mode": {
    "name": "ipython",
    "version": 3
   },
   "file_extension": ".py",
   "mimetype": "text/x-python",
   "name": "python",
   "nbconvert_exporter": "python",
   "pygments_lexer": "ipython3",
   "version": "3.5.2"
  }
 },
 "nbformat": 4,
 "nbformat_minor": 2
}
